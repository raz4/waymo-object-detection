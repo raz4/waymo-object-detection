{
 "cells": [
  {
   "cell_type": "markdown",
   "id": "approved-hamilton",
   "metadata": {},
   "source": [
    "# Waymo Data Download"
   ]
  },
  {
   "cell_type": "code",
   "execution_count": 3,
   "id": "lucky-satisfaction",
   "metadata": {},
   "outputs": [
    {
     "name": "stdout",
     "output_type": "stream",
     "text": [
      "gs://waymo_open_dataset_v_1_2_0_individual_files/domain_adaptation/\n",
      "gs://waymo_open_dataset_v_1_2_0_individual_files/testing/\n",
      "gs://waymo_open_dataset_v_1_2_0_individual_files/training/\n",
      "gs://waymo_open_dataset_v_1_2_0_individual_files/validation/\n"
     ]
    }
   ],
   "source": [
    "# this command will fail if you don't have access\n",
    "!gsutil ls gs://waymo_open_dataset_v_1_2_0_individual_files"
   ]
  },
  {
   "cell_type": "code",
   "execution_count": 4,
   "id": "electrical-antibody",
   "metadata": {},
   "outputs": [],
   "source": [
    "# create local directories for raw data\n",
    "!mkdir -p waymo_data_v120_raw/training waymo_data_v120_raw/validation "
   ]
  },
  {
   "cell_type": "code",
   "execution_count": 5,
   "id": "little-knife",
   "metadata": {},
   "outputs": [
    {
     "name": "stdout",
     "output_type": "stream",
     "text": [
      "Copying gs://waymo_open_dataset_v_1_2_0_individual_files/training/segment-10455472356147194054_1560_000_1580_000_with_camera_labels.tfrecord...\n",
      "If you experience problems with multiprocessing on MacOS, they might be related to https://bugs.python.org/issue33725. You can disable multiprocessing by editing your .boto config or by adding the following flag to your command: `-o \"GSUtil:parallel_process_count=1\"`. Note that multithreading is still available even if you disable multiprocessing.\n",
      "\n",
      "| [1 files][839.1 MiB/839.1 MiB]   10.0 MiB/s                                   \n",
      "Operation completed over 1 objects/839.1 MiB.                                    \n"
     ]
    }
   ],
   "source": [
    "# download single training file\n",
    "!gsutil cp \\\n",
    "    gs://waymo_open_dataset_v_1_2_0_individual_files/training/segment-10455472356147194054_1560_000_1580_000_with_camera_labels.tfrecord \\\n",
    "    waymo_data_v120_raw/training/"
   ]
  },
  {
   "cell_type": "code",
   "execution_count": 6,
   "id": "after-handling",
   "metadata": {},
   "outputs": [
    {
     "name": "stdout",
     "output_type": "stream",
     "text": [
      "Copying gs://waymo_open_dataset_v_1_2_0_individual_files/validation/segment-10203656353524179475_7625_000_7645_000_with_camera_labels.tfrecord...\n",
      "If you experience problems with multiprocessing on MacOS, they might be related to https://bugs.python.org/issue33725. You can disable multiprocessing by editing your .boto config or by adding the following flag to your command: `-o \"GSUtil:parallel_process_count=1\"`. Note that multithreading is still available even if you disable multiprocessing.\n",
      "\n",
      "- [1 files][851.4 MiB/851.4 MiB]   10.2 MiB/s                                   \n",
      "Operation completed over 1 objects/851.4 MiB.                                    \n"
     ]
    }
   ],
   "source": [
    "# download single validation file\n",
    "!gsutil cp \\\n",
    "    gs://waymo_open_dataset_v_1_2_0_individual_files/validation/segment-10203656353524179475_7625_000_7645_000_with_camera_labels.tfrecord \\\n",
    "    waymo_data_v120_raw/validation/"
   ]
  },
  {
   "cell_type": "markdown",
   "id": "automotive-coach",
   "metadata": {},
   "source": [
    "# Convert Raw Data to TFRecord Format"
   ]
  },
  {
   "cell_type": "code",
   "execution_count": 7,
   "id": "italic-dependence",
   "metadata": {},
   "outputs": [],
   "source": [
    "!mkdir -p waymo_data_v120/training waymo_data_v120/validation"
   ]
  },
  {
   "cell_type": "code",
   "execution_count": 4,
   "id": "exclusive-columbus",
   "metadata": {},
   "outputs": [
    {
     "name": "stdout",
     "output_type": "stream",
     "text": [
      "Loading Waymo training frames...\n",
      "Current date and time : \n",
      "2021-04-03 07:18:42\n",
      "Current date and time : \n",
      "2021-04-03 07:18:42\n",
      "Loading 1 tfrecord file(s)...\n",
      "2021-04-03 07:18:42.492524: I tensorflow/compiler/jit/xla_cpu_device.cc:41] Not creating XLA devices, tf_xla_enable_xla_devices not set\n",
      "2021-04-03 07:18:42.492793: I tensorflow/core/platform/cpu_feature_guard.cc:142] This TensorFlow binary is optimized with oneAPI Deep Neural Network Library (oneDNN) to use the following CPU instructions in performance-critical operations:  AVX2 FMA\n",
      "To enable them in other operations, rebuild TensorFlow with the appropriate compiler flags.\n",
      "2021-04-03 07:18:42.513489: I tensorflow/compiler/mlir/mlir_graph_optimization_pass.cc:116] None of the MLIR optimization passes are enabled (registered 2)\n",
      "On image 1 of 40, batch: 1 of 1\n",
      "Finished. Current date and time : \n",
      "2021-04-03 07:18:43\n"
     ]
    }
   ],
   "source": [
    "!python create_waymo_tfrecord.py \\\n",
    "    --input_path waymo_data_v120_raw/training \\\n",
    "    --output_path waymo_data_v120/training \\\n",
    "    --num_shards 1"
   ]
  },
  {
   "cell_type": "code",
   "execution_count": 7,
   "id": "developmental-wealth",
   "metadata": {},
   "outputs": [
    {
     "name": "stdout",
     "output_type": "stream",
     "text": [
      "waymo_data_v120/json_training.json\n",
      "\n",
      "waymo_data_v120/training:\n",
      "0-of-10.tfrecord\n",
      "1-of-10.tfrecord\n",
      "2-of-10.tfrecord\n",
      "3-of-10.tfrecord\n",
      "4-of-10.tfrecord\n",
      "5-of-10.tfrecord\n",
      "6-of-10.tfrecord\n",
      "7-of-10.tfrecord\n",
      "8-of-10.tfrecord\n",
      "9-of-10.tfrecord\n",
      "\n",
      "waymo_data_v120/validation:\n",
      "0-of-10.tfrecord\n",
      "1-of-10.tfrecord\n",
      "2-of-10.tfrecord\n",
      "3-of-10.tfrecord\n",
      "4-of-10.tfrecord\n",
      "5-of-10.tfrecord\n",
      "6-of-10.tfrecord\n",
      "7-of-10.tfrecord\n",
      "8-of-10.tfrecord\n",
      "9-of-10.tfrecord\n"
     ]
    }
   ],
   "source": [
    "# final result with full raw dataset and num_shards=10\n",
    "!ssh sjsu-hpc ls waymo_data_v120/**"
   ]
  }
 ],
 "metadata": {
  "kernelspec": {
   "display_name": "Python 3",
   "language": "python",
   "name": "python3"
  },
  "language_info": {
   "codemirror_mode": {
    "name": "ipython",
    "version": 3
   },
   "file_extension": ".py",
   "mimetype": "text/x-python",
   "name": "python",
   "nbconvert_exporter": "python",
   "pygments_lexer": "ipython3",
   "version": "3.8.5"
  }
 },
 "nbformat": 4,
 "nbformat_minor": 5
}
